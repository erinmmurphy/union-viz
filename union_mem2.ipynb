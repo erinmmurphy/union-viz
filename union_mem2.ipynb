{
 "cells": [
  {
   "cell_type": "code",
   "execution_count": 1,
   "metadata": {},
   "outputs": [],
   "source": [
    "import pandas as pd\n",
    "import numpy as np\n",
    "import matplotlib.pyplot as plt\n",
    "import seaborn as sns\n",
    "sns.set_theme(style=\"darkgrid\")"
   ]
  },
  {
   "cell_type": "code",
   "execution_count": 3,
   "metadata": {},
   "outputs": [
    {
     "data": {
      "text/html": [
       "<div>\n",
       "<style scoped>\n",
       "    .dataframe tbody tr th:only-of-type {\n",
       "        vertical-align: middle;\n",
       "    }\n",
       "\n",
       "    .dataframe tbody tr th {\n",
       "        vertical-align: top;\n",
       "    }\n",
       "\n",
       "    .dataframe thead th {\n",
       "        text-align: right;\n",
       "    }\n",
       "</style>\n",
       "<table border=\"1\" class=\"dataframe\">\n",
       "  <thead>\n",
       "    <tr style=\"text-align: right;\">\n",
       "      <th></th>\n",
       "      <th>state_id</th>\n",
       "      <th>state</th>\n",
       "      <th>year</th>\n",
       "      <th>mem_pct</th>\n",
       "    </tr>\n",
       "  </thead>\n",
       "  <tbody>\n",
       "    <tr>\n",
       "      <th>0</th>\n",
       "      <td>―</td>\n",
       "      <td>All States</td>\n",
       "      <td>2022</td>\n",
       "      <td>10.1</td>\n",
       "    </tr>\n",
       "    <tr>\n",
       "      <th>1</th>\n",
       "      <td>63</td>\n",
       "      <td>Alabama</td>\n",
       "      <td>2022</td>\n",
       "      <td>7.2</td>\n",
       "    </tr>\n",
       "    <tr>\n",
       "      <th>2</th>\n",
       "      <td>94</td>\n",
       "      <td>Alaska</td>\n",
       "      <td>2022</td>\n",
       "      <td>16.0</td>\n",
       "    </tr>\n",
       "    <tr>\n",
       "      <th>3</th>\n",
       "      <td>86</td>\n",
       "      <td>Arizona</td>\n",
       "      <td>2022</td>\n",
       "      <td>5.5</td>\n",
       "    </tr>\n",
       "    <tr>\n",
       "      <th>4</th>\n",
       "      <td>71</td>\n",
       "      <td>Arkansas</td>\n",
       "      <td>2022</td>\n",
       "      <td>4.9</td>\n",
       "    </tr>\n",
       "  </tbody>\n",
       "</table>\n",
       "</div>"
      ],
      "text/plain": [
       "  state_id       state  year  mem_pct\n",
       "0        ―  All States  2022     10.1\n",
       "1       63     Alabama  2022      7.2\n",
       "2       94      Alaska  2022     16.0\n",
       "3       86     Arizona  2022      5.5\n",
       "4       71    Arkansas  2022      4.9"
      ]
     },
     "execution_count": 3,
     "metadata": {},
     "output_type": "execute_result"
    }
   ],
   "source": [
    "um = pd.read_csv(\"/Users/erinmurphy/Documents/GitHub/union-viz/data/State_Union_Membership_Density_2008-2022.csv\")\n",
    "\n",
    "um.head()"
   ]
  },
  {
   "cell_type": "code",
   "execution_count": null,
   "metadata": {},
   "outputs": [],
   "source": [
    "um.info()"
   ]
  },
  {
   "cell_type": "code",
   "execution_count": null,
   "metadata": {},
   "outputs": [],
   "source": [
    "um.describe()"
   ]
  },
  {
   "cell_type": "code",
   "execution_count": null,
   "metadata": {},
   "outputs": [],
   "source": [
    "um.shape"
   ]
  },
  {
   "cell_type": "code",
   "execution_count": null,
   "metadata": {},
   "outputs": [],
   "source": [
    "# mean of total membership percentage per year\n",
    "\n",
    "um.groupby(['year']).groups.keys()\n",
    "g_year= um.groupby(['year'])['mem_pct'].mean()\n",
    "g_year_df= pd.DataFrame(g_year)\n",
    "g_year_df['year'] = g_year_df.index\n"
   ]
  },
  {
   "cell_type": "code",
   "execution_count": null,
   "metadata": {},
   "outputs": [],
   "source": [
    "ax = sns.regplot(x=g_year_df['year'], y=g_year_df['mem_pct'])"
   ]
  },
  {
   "cell_type": "code",
   "execution_count": null,
   "metadata": {},
   "outputs": [],
   "source": [
    "# mean of membership percentage per state 2008-22\n",
    "# group by state and take mean of member percentage\n",
    "\n",
    "g_state = um.groupby(['state'])['mem_pct'].mean()\n",
    "g_state_df= pd.DataFrame(g_state)\n",
    "g_state_df['state'] = g_state_df.index"
   ]
  },
  {
   "cell_type": "code",
   "execution_count": null,
   "metadata": {},
   "outputs": [],
   "source": [
    "ax = sns.barplot(x=\"mem_pct\", y=\"state\", data=g_state_df)"
   ]
  },
  {
   "cell_type": "code",
   "execution_count": null,
   "metadata": {},
   "outputs": [],
   "source": [
    "# attempted to group for line/scatter plot of all states with x for year and y for mean mem, sns plot hue is state\n",
    "\n",
    "g_state_yr = um.groupby(['state'])['mem_pct'].mean()\n",
    "g_state_yr_df= pd.DataFrame(g_state_yr)\n",
    "g_state_yr_df['state'] = g_state_yr_df.index"
   ]
  },
  {
   "cell_type": "code",
   "execution_count": null,
   "metadata": {},
   "outputs": [],
   "source": [
    "g_state_yr_df.head()"
   ]
  },
  {
   "cell_type": "code",
   "execution_count": null,
   "metadata": {},
   "outputs": [],
   "source": [
    "sns.lineplot(data=g_state_yr_df, x=\"state\", y=\"mem_pct\")\n",
    "##sns.lineplot(x=g_year_df['year'], y=g_state_df['mem_pct'], hue=g_state_df[\"state\"], style=g_state_df[\"state\"])\n",
    "## ax = sns.regplot(x=g_year_df['year'], y=g_year_df['mem_pct'])"
   ]
  },
  {
   "cell_type": "code",
   "execution_count": null,
   "metadata": {},
   "outputs": [],
   "source": [
    "fig2, ax = plt.subplots(figsize=(6,6))\n",
    "ax.plot(um[um.state=='New York'].groupby('year').mem_pct.mean(), label='New York')\n",
    "ax.plot(um[um.state=='Alabama'].groupby('year').mem_pct.mean(), label='Alabama')"
   ]
  },
  {
   "cell_type": "code",
   "execution_count": null,
   "metadata": {},
   "outputs": [],
   "source": [
    "mem_time = [ um['state'].isin(g_state_df['state']) ].copy()\n",
    "\n",
    "sns.lineplot(\n",
    "    data = mem_time,\n",
    "    x = 'year', y = 'mem_pct',\n",
    "    hue = 'state')\n",
    "\n",
    "plt.title( \"mem by state\" )\n",
    "sns.despine( left = True )\n",
    "plt.tick_params( left = False )\n",
    "plt.grid( axis = 'y', lw = 0.5, ls = '--')\n",
    "plt.xlabel('')\n",
    "plt.ylabel('mem pct')\n",
    "plt.legend(bbox_to_anchor=(1,1), loc=\"upper left\")"
   ]
  },
  {
   "cell_type": "code",
   "execution_count": null,
   "metadata": {},
   "outputs": [],
   "source": [
    "sns.set_theme()\n",
    "g = sns.FacetGrid(um, col=\"state\", col_wrap=4, height=2, ylim=(0, 10))\n",
    "g.map(sns.histplot, \"mem_pct\")\n"
   ]
  },
  {
   "cell_type": "code",
   "execution_count": null,
   "metadata": {},
   "outputs": [],
   "source": [
    "# distribution of percentage of union members. most common percentage around 5%\n",
    "sns.set_theme()\n",
    "sns.displot(um, x=\"mem_pct\", binwidth=1)"
   ]
  },
  {
   "cell_type": "code",
   "execution_count": null,
   "metadata": {},
   "outputs": [],
   "source": [
    "sns.displot(um, x=\"mem_pct\", hue=\"state\", multiple=\"stack\")"
   ]
  },
  {
   "cell_type": "code",
   "execution_count": null,
   "metadata": {},
   "outputs": [],
   "source": [
    "sns.kdeplot(um, x=\"mem_pct\", hue=\"state\", multiple=\"stack\")"
   ]
  },
  {
   "cell_type": "code",
   "execution_count": null,
   "metadata": {},
   "outputs": [],
   "source": [
    "#plot each state's membership percentage over time\n",
    "sns.relplot(data=um, x=\"year\", y=\"mem_pct\", hue=\"state\", kind=\"line\" )"
   ]
  },
  {
   "cell_type": "code",
   "execution_count": null,
   "metadata": {},
   "outputs": [],
   "source": [
    "# adjustment to figure size and color of previous plot: mean of membership percentage per state 2008-22, grouped by state and take mean of member percentage\n",
    "\n",
    "sns.set(rc={\"figure.figsize\":(8, 8)})\n",
    "sns.barplot(x=\"mem_pct\", y=\"state\", data=g_state_df, palette=\"viridis\")"
   ]
  },
  {
   "cell_type": "code",
   "execution_count": null,
   "metadata": {},
   "outputs": [],
   "source": [
    "# adjusted above with plot sorted by membership percentage value \n",
    "sns.set(rc={\"figure.figsize\":(8, 9)})\n",
    "sns.barplot(x=\"mem_pct\", y=\"state\", data=g_state_df, palette=\"viridis\",\n",
    "order=g_state_df.sort_values('mem_pct',ascending = False).state)"
   ]
  },
  {
   "cell_type": "code",
   "execution_count": null,
   "metadata": {},
   "outputs": [],
   "source": [
    "#same as above but by year\n",
    "\n",
    "sns.set(rc={\"figure.figsize\":(8, 9)})\n",
    "#sns.barplot(x=\"mem_pct\", y=\"year\", data=g_year_df, palette=\"viridis\")\n",
    "\n",
    "sns.lineplot(x=g_year_df['year'], y=g_year_df['mem_pct'])\n",
    "\n",
    "# order=g_state_df.sort_values('mem_pct',ascending = False).state)"
   ]
  },
  {
   "cell_type": "code",
   "execution_count": null,
   "metadata": {},
   "outputs": [],
   "source": [
    "# sns.lineplot(x=g_year_df['year'], y=g_year_df['mem_pct'])\n",
    "allstates = um[ um['state'] == 'All States' ].copy()\n",
    "allstates.head()"
   ]
  },
  {
   "cell_type": "code",
   "execution_count": null,
   "metadata": {},
   "outputs": [],
   "source": [
    "#plot union membership rate 2008-22 (proportion of total wage and salary workers in US who are union members)\n",
    "\n",
    "sns.lineplot(data=allstates, x='year', y='mem_pct')"
   ]
  },
  {
   "cell_type": "code",
   "execution_count": null,
   "metadata": {},
   "outputs": [],
   "source": [
    "g_state_df.head()"
   ]
  },
  {
   "cell_type": "code",
   "execution_count": null,
   "metadata": {},
   "outputs": [],
   "source": [
    "# correlation matrix"
   ]
  },
  {
   "cell_type": "code",
   "execution_count": null,
   "metadata": {},
   "outputs": [],
   "source": [
    "g_year_df.head()"
   ]
  },
  {
   "cell_type": "code",
   "execution_count": null,
   "metadata": {},
   "outputs": [],
   "source": [
    "g_state_df.to_csv('g_state_df.csv', index=False)"
   ]
  },
  {
   "cell_type": "code",
   "execution_count": null,
   "metadata": {},
   "outputs": [],
   "source": []
  }
 ],
 "metadata": {
  "kernelspec": {
   "display_name": "Adv_projects_visualization",
   "language": "python",
   "name": "python3"
  },
  "language_info": {
   "codemirror_mode": {
    "name": "ipython",
    "version": 3
   },
   "file_extension": ".py",
   "mimetype": "text/x-python",
   "name": "python",
   "nbconvert_exporter": "python",
   "pygments_lexer": "ipython3",
   "version": "3.9.16"
  },
  "orig_nbformat": 4,
  "vscode": {
   "interpreter": {
    "hash": "1c2e3cea3d80656b37fd78355c8c4e600afa4feea6b3afea11aae145ee16d91b"
   }
  }
 },
 "nbformat": 4,
 "nbformat_minor": 2
}
