{
 "cells": [
  {
   "cell_type": "code",
   "execution_count": 1,
   "metadata": {},
   "outputs": [],
   "source": [
    "import pandas as pd\n",
    "import numpy as np\n",
    "import matplotlib.pyplot as plt\n",
    "import seaborn as sns"
   ]
  },
  {
   "cell_type": "code",
   "execution_count": 2,
   "metadata": {},
   "outputs": [
    {
     "data": {
      "text/html": [
       "<div>\n",
       "<style scoped>\n",
       "    .dataframe tbody tr th:only-of-type {\n",
       "        vertical-align: middle;\n",
       "    }\n",
       "\n",
       "    .dataframe tbody tr th {\n",
       "        vertical-align: top;\n",
       "    }\n",
       "\n",
       "    .dataframe thead th {\n",
       "        text-align: right;\n",
       "    }\n",
       "</style>\n",
       "<table border=\"1\" class=\"dataframe\">\n",
       "  <thead>\n",
       "    <tr style=\"text-align: right;\">\n",
       "      <th></th>\n",
       "      <th>State</th>\n",
       "      <th>Total_employed_2021</th>\n",
       "      <th>total_members_of_unions_2021</th>\n",
       "      <th>Percent_of_employed_members_of_unions_2021</th>\n",
       "      <th>Total_Represented_by_unions_2021</th>\n",
       "      <th>Percent_of_employed_Represented_by_unions_2021</th>\n",
       "      <th>Total_employed_2022</th>\n",
       "      <th>Total_members_of_unions_2022</th>\n",
       "      <th>Percent_of_employed_members_of_unions_2022</th>\n",
       "      <th>Unnamed: 9</th>\n",
       "      <th>Total_Represented_by_unions_2022</th>\n",
       "      <th>Percent_of_employed_Represented_by_unions_2022</th>\n",
       "      <th>Unnamed: 12</th>\n",
       "      <th>Unnamed: 13</th>\n",
       "      <th>Unnamed: 14</th>\n",
       "      <th>Unnamed: 15</th>\n",
       "    </tr>\n",
       "  </thead>\n",
       "  <tbody>\n",
       "    <tr>\n",
       "      <th>0</th>\n",
       "      <td>Alabama</td>\n",
       "      <td>1,938</td>\n",
       "      <td>115</td>\n",
       "      <td>5.9</td>\n",
       "      <td>133</td>\n",
       "      <td>6.9</td>\n",
       "      <td>2,066</td>\n",
       "      <td>149</td>\n",
       "      <td>7.2</td>\n",
       "      <td>NaN</td>\n",
       "      <td>173</td>\n",
       "      <td>8.4</td>\n",
       "      <td>NaN</td>\n",
       "      <td>NaN</td>\n",
       "      <td>NaN</td>\n",
       "      <td>NaN</td>\n",
       "    </tr>\n",
       "    <tr>\n",
       "      <th>1</th>\n",
       "      <td>Alaska</td>\n",
       "      <td>293</td>\n",
       "      <td>46</td>\n",
       "      <td>15.8</td>\n",
       "      <td>50</td>\n",
       "      <td>17.2</td>\n",
       "      <td>298</td>\n",
       "      <td>48</td>\n",
       "      <td>16.0</td>\n",
       "      <td>NaN</td>\n",
       "      <td>52</td>\n",
       "      <td>17.3</td>\n",
       "      <td>NaN</td>\n",
       "      <td>NaN</td>\n",
       "      <td>NaN</td>\n",
       "      <td>NaN</td>\n",
       "    </tr>\n",
       "    <tr>\n",
       "      <th>2</th>\n",
       "      <td>Arizona</td>\n",
       "      <td>3,116</td>\n",
       "      <td>167</td>\n",
       "      <td>5.4</td>\n",
       "      <td>208</td>\n",
       "      <td>6.7</td>\n",
       "      <td>3,061</td>\n",
       "      <td>169</td>\n",
       "      <td>5.5</td>\n",
       "      <td>NaN</td>\n",
       "      <td>189</td>\n",
       "      <td>6.2</td>\n",
       "      <td>NaN</td>\n",
       "      <td>NaN</td>\n",
       "      <td>NaN</td>\n",
       "      <td>NaN</td>\n",
       "    </tr>\n",
       "    <tr>\n",
       "      <th>3</th>\n",
       "      <td>Arkansas</td>\n",
       "      <td>1,167</td>\n",
       "      <td>46</td>\n",
       "      <td>3.9</td>\n",
       "      <td>51</td>\n",
       "      <td>4.4</td>\n",
       "      <td>1,204</td>\n",
       "      <td>59</td>\n",
       "      <td>4.9</td>\n",
       "      <td>NaN</td>\n",
       "      <td>68</td>\n",
       "      <td>5.7</td>\n",
       "      <td>NaN</td>\n",
       "      <td>NaN</td>\n",
       "      <td>NaN</td>\n",
       "      <td>NaN</td>\n",
       "    </tr>\n",
       "    <tr>\n",
       "      <th>4</th>\n",
       "      <td>California</td>\n",
       "      <td>15,497</td>\n",
       "      <td>2,468</td>\n",
       "      <td>15.9</td>\n",
       "      <td>2,757</td>\n",
       "      <td>17.8</td>\n",
       "      <td>16,240</td>\n",
       "      <td>2,617</td>\n",
       "      <td>16.1</td>\n",
       "      <td>NaN</td>\n",
       "      <td>2,856</td>\n",
       "      <td>17.6</td>\n",
       "      <td>NaN</td>\n",
       "      <td>NaN</td>\n",
       "      <td>NaN</td>\n",
       "      <td>NaN</td>\n",
       "    </tr>\n",
       "  </tbody>\n",
       "</table>\n",
       "</div>"
      ],
      "text/plain": [
       "        State Total_employed_2021 total_members_of_unions_2021  \\\n",
       "0     Alabama               1,938                          115   \n",
       "1      Alaska                 293                           46   \n",
       "2     Arizona               3,116                          167   \n",
       "3    Arkansas               1,167                           46   \n",
       "4  California              15,497                        2,468   \n",
       "\n",
       "   Percent_of_employed_members_of_unions_2021  \\\n",
       "0                                         5.9   \n",
       "1                                        15.8   \n",
       "2                                         5.4   \n",
       "3                                         3.9   \n",
       "4                                        15.9   \n",
       "\n",
       "  Total_Represented_by_unions_2021  \\\n",
       "0                              133   \n",
       "1                               50   \n",
       "2                              208   \n",
       "3                               51   \n",
       "4                            2,757   \n",
       "\n",
       "   Percent_of_employed_Represented_by_unions_2021 Total_employed_2022  \\\n",
       "0                                             6.9               2,066   \n",
       "1                                            17.2                 298   \n",
       "2                                             6.7               3,061   \n",
       "3                                             4.4               1,204   \n",
       "4                                            17.8              16,240   \n",
       "\n",
       "  Total_members_of_unions_2022  Percent_of_employed_members_of_unions_2022  \\\n",
       "0                          149                                         7.2   \n",
       "1                           48                                        16.0   \n",
       "2                          169                                         5.5   \n",
       "3                           59                                         4.9   \n",
       "4                        2,617                                        16.1   \n",
       "\n",
       "   Unnamed: 9 Total_Represented_by_unions_2022  \\\n",
       "0         NaN                              173   \n",
       "1         NaN                               52   \n",
       "2         NaN                              189   \n",
       "3         NaN                               68   \n",
       "4         NaN                            2,856   \n",
       "\n",
       "   Percent_of_employed_Represented_by_unions_2022  Unnamed: 12  Unnamed: 13  \\\n",
       "0                                             8.4          NaN          NaN   \n",
       "1                                            17.3          NaN          NaN   \n",
       "2                                             6.2          NaN          NaN   \n",
       "3                                             5.7          NaN          NaN   \n",
       "4                                            17.6          NaN          NaN   \n",
       "\n",
       "   Unnamed: 14  Unnamed: 15  \n",
       "0          NaN          NaN  \n",
       "1          NaN          NaN  \n",
       "2          NaN          NaN  \n",
       "3          NaN          NaN  \n",
       "4          NaN          NaN  "
      ]
     },
     "execution_count": 2,
     "metadata": {},
     "output_type": "execute_result"
    }
   ],
   "source": [
    "df = pd.read_csv(\"/Users/erinmurphy/Desktop/Adv Projects in Viz/forEDA_Table 5. Union affiliation of employed wage and salary workers by state - 2022 A01 Results.csv\")\n",
    "df.head()"
   ]
  },
  {
   "cell_type": "code",
   "execution_count": 7,
   "metadata": {},
   "outputs": [
    {
     "data": {
      "text/plain": [
       "<AxesSubplot: >"
      ]
     },
     "execution_count": 7,
     "metadata": {},
     "output_type": "execute_result"
    },
    {
     "data": {
      "image/png": "[encoded data removed]",
      "text/plain": [
       "<Figure size 640x480 with 2 Axes>"
      ]
     },
     "metadata": {},
     "output_type": "display_data"
    }
   ],
   "source": [
    "fig,ax = plt.subplots(nrows= 2)\n",
    "\n",
    "df['Percent_of_employed_members_of_unions_2021'].hist(bins = 100, ax=ax[0])\n",
    "df['Percent_of_employed_members_of_unions_2022'].hist(bins = 100, ax=ax[0])\n"
   ]
  },
  {
   "cell_type": "code",
   "execution_count": 10,
   "metadata": {},
   "outputs": [
    {
     "data": {
      "text/plain": [
       "<AxesSubplot: ylabel='Frequency'>"
      ]
     },
     "execution_count": 10,
     "metadata": {},
     "output_type": "execute_result"
    },
    {
     "data": {
      "image/png": "[encoded data removed]",
      "text/plain": [
       "<Figure size 640x480 with 1 Axes>"
      ]
     },
     "metadata": {},
     "output_type": "display_data"
    }
   ],
   "source": [
    "df['Percent_of_employed_Represented_by_unions_2021'].plot.hist(bins=12, alpha=0.5)\n",
    "df['Percent_of_employed_Represented_by_unions_2022'].plot.hist(bins=12, alpha=0.5)\n"
   ]
  },
  {
   "cell_type": "code",
   "execution_count": null,
   "metadata": {},
   "outputs": [],
   "source": []
  }
 ],
 "metadata": {
  "kernelspec": {
   "display_name": "Adv_projects_visualization",
   "language": "python",
   "name": "python3"
  },
  "language_info": {
   "codemirror_mode": {
    "name": "ipython",
    "version": 3
   },
   "file_extension": ".py",
   "mimetype": "text/x-python",
   "name": "python",
   "nbconvert_exporter": "python",
   "pygments_lexer": "ipython3",
   "version": "3.9.16"
  },
  "orig_nbformat": 4,
  "vscode": {
   "interpreter": {
    "hash": "1c2e3cea3d80656b37fd78355c8c4e600afa4feea6b3afea11aae145ee16d91b"
   }
  }
 },
 "nbformat": 4,
 "nbformat_minor": 2
}
