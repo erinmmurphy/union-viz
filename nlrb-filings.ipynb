{
 "cells": [
  {
   "cell_type": "code",
   "execution_count": 1,
   "metadata": {},
   "outputs": [],
   "source": [
    "import pandas as pd\n",
    "import numpy as np\n",
    "import matplotlib.pyplot as plt\n",
    "import seaborn as sns\n",
    "sns.set_theme(style=\"darkgrid\")"
   ]
  },
  {
   "cell_type": "code",
   "execution_count": 2,
   "metadata": {},
   "outputs": [
    {
     "data": {
      "text/html": [
       "<div>\n",
       "<style scoped>\n",
       "    .dataframe tbody tr th:only-of-type {\n",
       "        vertical-align: middle;\n",
       "    }\n",
       "\n",
       "    .dataframe tbody tr th {\n",
       "        vertical-align: top;\n",
       "    }\n",
       "\n",
       "    .dataframe thead th {\n",
       "        text-align: right;\n",
       "    }\n",
       "</style>\n",
       "<table border=\"1\" class=\"dataframe\">\n",
       "  <thead>\n",
       "    <tr style=\"text-align: right;\">\n",
       "      <th></th>\n",
       "      <th>Name</th>\n",
       "      <th>Case Number</th>\n",
       "      <th>City</th>\n",
       "      <th>States &amp; Territories</th>\n",
       "      <th>Date Filed</th>\n",
       "      <th>Region Assigned</th>\n",
       "      <th>Status</th>\n",
       "      <th>Date Closed</th>\n",
       "      <th>Reason Closed</th>\n",
       "      <th>No. of Eligible Voters</th>\n",
       "      <th>No. of Employees</th>\n",
       "      <th>Certified Representative</th>\n",
       "      <th>Unit Sought</th>\n",
       "    </tr>\n",
       "  </thead>\n",
       "  <tbody>\n",
       "    <tr>\n",
       "      <th>0</th>\n",
       "      <td>Horsepower Electric &amp; Maintenance Corp.</td>\n",
       "      <td>29-RD-309689</td>\n",
       "      <td>Brooklyn</td>\n",
       "      <td>NY</td>\n",
       "      <td>12/30/2022</td>\n",
       "      <td>Region 29, Brooklyn, New York</td>\n",
       "      <td>Open</td>\n",
       "      <td>NaN</td>\n",
       "      <td>NaN</td>\n",
       "      <td>NaN</td>\n",
       "      <td>140.0</td>\n",
       "      <td>NaN</td>\n",
       "      <td>Included:\\nJourneyman, Apprentices, helpers, m...</td>\n",
       "    </tr>\n",
       "    <tr>\n",
       "      <th>1</th>\n",
       "      <td>Patrick Industries Inc.</td>\n",
       "      <td>10-RC-309674</td>\n",
       "      <td>Decatur</td>\n",
       "      <td>AL</td>\n",
       "      <td>12/30/2022</td>\n",
       "      <td>Region 10, Atlanta, Georgia</td>\n",
       "      <td>Closed</td>\n",
       "      <td>02/10/2023</td>\n",
       "      <td>Certification of Results</td>\n",
       "      <td>56.0</td>\n",
       "      <td>60.0</td>\n",
       "      <td>NaN</td>\n",
       "      <td>Included: All regular full-time production and...</td>\n",
       "    </tr>\n",
       "    <tr>\n",
       "      <th>2</th>\n",
       "      <td>Schindler of Puerto Rico, L.L.C.</td>\n",
       "      <td>12-RC-309657</td>\n",
       "      <td>Catano</td>\n",
       "      <td>PR</td>\n",
       "      <td>12/30/2022</td>\n",
       "      <td>Region 12, Tampa, Florida</td>\n",
       "      <td>Closed</td>\n",
       "      <td>01/13/2023</td>\n",
       "      <td>Withdrawal Non-adjusted</td>\n",
       "      <td>NaN</td>\n",
       "      <td>16.0</td>\n",
       "      <td>NaN</td>\n",
       "      <td>Included: All service and repair employees and...</td>\n",
       "    </tr>\n",
       "    <tr>\n",
       "      <th>3</th>\n",
       "      <td>United Rentals Pac-Van</td>\n",
       "      <td>25-RC-309624</td>\n",
       "      <td>East Moline</td>\n",
       "      <td>IL</td>\n",
       "      <td>12/29/2022</td>\n",
       "      <td>Region 25, Indianapolis, Indiana</td>\n",
       "      <td>Closed</td>\n",
       "      <td>01/12/2023</td>\n",
       "      <td>Withdrawal Non-adjusted</td>\n",
       "      <td>NaN</td>\n",
       "      <td>3.0</td>\n",
       "      <td>NaN</td>\n",
       "      <td>Included: All full and part-time truck drivers...</td>\n",
       "    </tr>\n",
       "    <tr>\n",
       "      <th>4</th>\n",
       "      <td>Training Rehabilitation &amp; Development Institut...</td>\n",
       "      <td>28-RC-309642</td>\n",
       "      <td>El Paso</td>\n",
       "      <td>TX</td>\n",
       "      <td>12/29/2022</td>\n",
       "      <td>Region 28, Phoenix, Arizona</td>\n",
       "      <td>Closed</td>\n",
       "      <td>01/23/2023</td>\n",
       "      <td>Withdrawal Non-adjusted</td>\n",
       "      <td>NaN</td>\n",
       "      <td>5.0</td>\n",
       "      <td>NaN</td>\n",
       "      <td>Included: \\n\\nAll full time and part time lead...</td>\n",
       "    </tr>\n",
       "  </tbody>\n",
       "</table>\n",
       "</div>"
      ],
      "text/plain": [
       "                                                Name   Case Number  \\\n",
       "0            Horsepower Electric & Maintenance Corp.  29-RD-309689   \n",
       "1                            Patrick Industries Inc.  10-RC-309674   \n",
       "2                   Schindler of Puerto Rico, L.L.C.  12-RC-309657   \n",
       "3                             United Rentals Pac-Van  25-RC-309624   \n",
       "4  Training Rehabilitation & Development Institut...  28-RC-309642   \n",
       "\n",
       "          City States & Territories  Date Filed  \\\n",
       "0     Brooklyn                   NY  12/30/2022   \n",
       "1      Decatur                   AL  12/30/2022   \n",
       "2       Catano                   PR  12/30/2022   \n",
       "3  East Moline                   IL  12/29/2022   \n",
       "4      El Paso                   TX  12/29/2022   \n",
       "\n",
       "                    Region Assigned  Status Date Closed  \\\n",
       "0     Region 29, Brooklyn, New York    Open         NaN   \n",
       "1       Region 10, Atlanta, Georgia  Closed  02/10/2023   \n",
       "2         Region 12, Tampa, Florida  Closed  01/13/2023   \n",
       "3  Region 25, Indianapolis, Indiana  Closed  01/12/2023   \n",
       "4       Region 28, Phoenix, Arizona  Closed  01/23/2023   \n",
       "\n",
       "              Reason Closed  No. of Eligible Voters  No. of Employees  \\\n",
       "0                       NaN                     NaN             140.0   \n",
       "1  Certification of Results                    56.0              60.0   \n",
       "2   Withdrawal Non-adjusted                     NaN              16.0   \n",
       "3   Withdrawal Non-adjusted                     NaN               3.0   \n",
       "4   Withdrawal Non-adjusted                     NaN               5.0   \n",
       "\n",
       "  Certified Representative                                        Unit Sought  \n",
       "0                      NaN  Included:\\nJourneyman, Apprentices, helpers, m...  \n",
       "1                      NaN  Included: All regular full-time production and...  \n",
       "2                      NaN  Included: All service and repair employees and...  \n",
       "3                      NaN  Included: All full and part-time truck drivers...  \n",
       "4                      NaN  Included: \\n\\nAll full time and part time lead...  "
      ]
     },
     "execution_count": 2,
     "metadata": {},
     "output_type": "execute_result"
    }
   ],
   "source": [
    "df_file = pd.read_csv(\"data/recent_filings__all_dates_--2008-22.csv\")\n",
    "\n",
    "df_file.head()"
   ]
  },
  {
   "cell_type": "code",
   "execution_count": 3,
   "metadata": {},
   "outputs": [
    {
     "name": "stdout",
     "output_type": "stream",
     "text": [
      "<class 'pandas.core.frame.DataFrame'>\n",
      "RangeIndex: 37978 entries, 0 to 37977\n",
      "Data columns (total 13 columns):\n",
      " #   Column                    Non-Null Count  Dtype  \n",
      "---  ------                    --------------  -----  \n",
      " 0   Name                      37978 non-null  object \n",
      " 1   Case Number               37978 non-null  object \n",
      " 2   City                      37976 non-null  object \n",
      " 3   States & Territories      37978 non-null  object \n",
      " 4   Date Filed                37978 non-null  object \n",
      " 5   Region Assigned           37978 non-null  object \n",
      " 6   Status                    37978 non-null  object \n",
      " 7   Date Closed               37632 non-null  object \n",
      " 8   Reason Closed             37620 non-null  object \n",
      " 9   No. of Eligible Voters    23662 non-null  float64\n",
      " 10  No. of Employees          37705 non-null  float64\n",
      " 11  Certified Representative  16049 non-null  object \n",
      " 12  Unit Sought               36019 non-null  object \n",
      "dtypes: float64(2), object(11)\n",
      "memory usage: 3.8+ MB\n"
     ]
    }
   ],
   "source": [
    "df_file.info()\n"
   ]
  },
  {
   "cell_type": "code",
   "execution_count": 4,
   "metadata": {},
   "outputs": [],
   "source": [
    "# change date filed to datetime\n",
    "df_file['Date Filed'] = pd.to_datetime(df_file['Date Filed'])"
   ]
  },
  {
   "cell_type": "code",
   "execution_count": 5,
   "metadata": {},
   "outputs": [
    {
     "data": {
      "text/plain": [
       "dtype('<M8[ns]')"
      ]
     },
     "execution_count": 5,
     "metadata": {},
     "output_type": "execute_result"
    }
   ],
   "source": [
    "# check dtype of 'Date Filed'\n",
    "df_file['Date Filed'].dtype"
   ]
  },
  {
   "cell_type": "code",
   "execution_count": 6,
   "metadata": {},
   "outputs": [
    {
     "name": "stdout",
     "output_type": "stream",
     "text": [
      "<class 'pandas.core.frame.DataFrame'>\n",
      "RangeIndex: 37978 entries, 0 to 37977\n",
      "Data columns (total 13 columns):\n",
      " #   Column                    Non-Null Count  Dtype         \n",
      "---  ------                    --------------  -----         \n",
      " 0   Name                      37978 non-null  object        \n",
      " 1   Case Number               37978 non-null  object        \n",
      " 2   City                      37976 non-null  object        \n",
      " 3   States & Territories      37978 non-null  object        \n",
      " 4   Date Filed                37978 non-null  datetime64[ns]\n",
      " 5   Region Assigned           37978 non-null  object        \n",
      " 6   Status                    37978 non-null  object        \n",
      " 7   Date Closed               37632 non-null  object        \n",
      " 8   Reason Closed             37620 non-null  object        \n",
      " 9   No. of Eligible Voters    23662 non-null  float64       \n",
      " 10  No. of Employees          37705 non-null  float64       \n",
      " 11  Certified Representative  16049 non-null  object        \n",
      " 12  Unit Sought               36019 non-null  object        \n",
      "dtypes: datetime64[ns](1), float64(2), object(10)\n",
      "memory usage: 3.8+ MB\n"
     ]
    }
   ],
   "source": [
    "df_file.info()"
   ]
  },
  {
   "cell_type": "code",
   "execution_count": 7,
   "metadata": {},
   "outputs": [
    {
     "data": {
      "text/html": [
       "<div>\n",
       "<style scoped>\n",
       "    .dataframe tbody tr th:only-of-type {\n",
       "        vertical-align: middle;\n",
       "    }\n",
       "\n",
       "    .dataframe tbody tr th {\n",
       "        vertical-align: top;\n",
       "    }\n",
       "\n",
       "    .dataframe thead th {\n",
       "        text-align: right;\n",
       "    }\n",
       "</style>\n",
       "<table border=\"1\" class=\"dataframe\">\n",
       "  <thead>\n",
       "    <tr style=\"text-align: right;\">\n",
       "      <th></th>\n",
       "      <th>Name</th>\n",
       "      <th>Case Number</th>\n",
       "      <th>City</th>\n",
       "      <th>States &amp; Territories</th>\n",
       "      <th>Date Filed</th>\n",
       "      <th>Region Assigned</th>\n",
       "      <th>Status</th>\n",
       "      <th>Date Closed</th>\n",
       "      <th>Reason Closed</th>\n",
       "      <th>No. of Eligible Voters</th>\n",
       "      <th>No. of Employees</th>\n",
       "      <th>Certified Representative</th>\n",
       "      <th>Unit Sought</th>\n",
       "      <th>year</th>\n",
       "    </tr>\n",
       "  </thead>\n",
       "  <tbody>\n",
       "    <tr>\n",
       "      <th>0</th>\n",
       "      <td>Horsepower Electric &amp; Maintenance Corp.</td>\n",
       "      <td>29-RD-309689</td>\n",
       "      <td>Brooklyn</td>\n",
       "      <td>NY</td>\n",
       "      <td>2022-12-30</td>\n",
       "      <td>Region 29, Brooklyn, New York</td>\n",
       "      <td>Open</td>\n",
       "      <td>NaN</td>\n",
       "      <td>NaN</td>\n",
       "      <td>NaN</td>\n",
       "      <td>140.0</td>\n",
       "      <td>NaN</td>\n",
       "      <td>Included:\\nJourneyman, Apprentices, helpers, m...</td>\n",
       "      <td>2022</td>\n",
       "    </tr>\n",
       "    <tr>\n",
       "      <th>1</th>\n",
       "      <td>Patrick Industries Inc.</td>\n",
       "      <td>10-RC-309674</td>\n",
       "      <td>Decatur</td>\n",
       "      <td>AL</td>\n",
       "      <td>2022-12-30</td>\n",
       "      <td>Region 10, Atlanta, Georgia</td>\n",
       "      <td>Closed</td>\n",
       "      <td>02/10/2023</td>\n",
       "      <td>Certification of Results</td>\n",
       "      <td>56.0</td>\n",
       "      <td>60.0</td>\n",
       "      <td>NaN</td>\n",
       "      <td>Included: All regular full-time production and...</td>\n",
       "      <td>2022</td>\n",
       "    </tr>\n",
       "    <tr>\n",
       "      <th>2</th>\n",
       "      <td>Schindler of Puerto Rico, L.L.C.</td>\n",
       "      <td>12-RC-309657</td>\n",
       "      <td>Catano</td>\n",
       "      <td>PR</td>\n",
       "      <td>2022-12-30</td>\n",
       "      <td>Region 12, Tampa, Florida</td>\n",
       "      <td>Closed</td>\n",
       "      <td>01/13/2023</td>\n",
       "      <td>Withdrawal Non-adjusted</td>\n",
       "      <td>NaN</td>\n",
       "      <td>16.0</td>\n",
       "      <td>NaN</td>\n",
       "      <td>Included: All service and repair employees and...</td>\n",
       "      <td>2022</td>\n",
       "    </tr>\n",
       "  </tbody>\n",
       "</table>\n",
       "</div>"
      ],
      "text/plain": [
       "                                      Name   Case Number      City  \\\n",
       "0  Horsepower Electric & Maintenance Corp.  29-RD-309689  Brooklyn   \n",
       "1                  Patrick Industries Inc.  10-RC-309674   Decatur   \n",
       "2         Schindler of Puerto Rico, L.L.C.  12-RC-309657    Catano   \n",
       "\n",
       "  States & Territories Date Filed                Region Assigned  Status  \\\n",
       "0                   NY 2022-12-30  Region 29, Brooklyn, New York    Open   \n",
       "1                   AL 2022-12-30    Region 10, Atlanta, Georgia  Closed   \n",
       "2                   PR 2022-12-30      Region 12, Tampa, Florida  Closed   \n",
       "\n",
       "  Date Closed             Reason Closed  No. of Eligible Voters  \\\n",
       "0         NaN                       NaN                     NaN   \n",
       "1  02/10/2023  Certification of Results                    56.0   \n",
       "2  01/13/2023   Withdrawal Non-adjusted                     NaN   \n",
       "\n",
       "   No. of Employees Certified Representative  \\\n",
       "0             140.0                      NaN   \n",
       "1              60.0                      NaN   \n",
       "2              16.0                      NaN   \n",
       "\n",
       "                                         Unit Sought  year  \n",
       "0  Included:\\nJourneyman, Apprentices, helpers, m...  2022  \n",
       "1  Included: All regular full-time production and...  2022  \n",
       "2  Included: All service and repair employees and...  2022  "
      ]
     },
     "execution_count": 7,
     "metadata": {},
     "output_type": "execute_result"
    }
   ],
   "source": [
    "# create new column for year filed\n",
    "df_file['year'] = df_file['Date Filed'].dt.year\n",
    "\n",
    "df_file.head(3)"
   ]
  },
  {
   "cell_type": "code",
   "execution_count": 8,
   "metadata": {},
   "outputs": [],
   "source": [
    "# change 'year' to datetime\n",
    "df_file['year'] = pd.to_datetime(df_file['year'], format='%Y')"
   ]
  },
  {
   "cell_type": "code",
   "execution_count": 9,
   "metadata": {},
   "outputs": [],
   "source": [
    "# rename 'States & Territories' to 'state'\n",
    "df_file.rename(columns={'States & Territories': 'state'}, inplace=True)"
   ]
  },
  {
   "cell_type": "code",
   "execution_count": 10,
   "metadata": {},
   "outputs": [],
   "source": [
    "# transform the data to get the number of cases per year per state  \n",
    "case_st_yr = df_file.groupby(['year', 'state']).size().reset_index(name='counts')\n"
   ]
  },
  {
   "cell_type": "code",
   "execution_count": 11,
   "metadata": {},
   "outputs": [
    {
     "data": {
      "text/html": [
       "<div>\n",
       "<style scoped>\n",
       "    .dataframe tbody tr th:only-of-type {\n",
       "        vertical-align: middle;\n",
       "    }\n",
       "\n",
       "    .dataframe tbody tr th {\n",
       "        vertical-align: top;\n",
       "    }\n",
       "\n",
       "    .dataframe thead th {\n",
       "        text-align: right;\n",
       "    }\n",
       "</style>\n",
       "<table border=\"1\" class=\"dataframe\">\n",
       "  <thead>\n",
       "    <tr style=\"text-align: right;\">\n",
       "      <th></th>\n",
       "      <th>year</th>\n",
       "      <th>state</th>\n",
       "      <th>counts</th>\n",
       "    </tr>\n",
       "  </thead>\n",
       "  <tbody>\n",
       "    <tr>\n",
       "      <th>0</th>\n",
       "      <td>2008-01-01</td>\n",
       "      <td>AK</td>\n",
       "      <td>23</td>\n",
       "    </tr>\n",
       "    <tr>\n",
       "      <th>1</th>\n",
       "      <td>2008-01-01</td>\n",
       "      <td>AL</td>\n",
       "      <td>32</td>\n",
       "    </tr>\n",
       "    <tr>\n",
       "      <th>2</th>\n",
       "      <td>2008-01-01</td>\n",
       "      <td>AR</td>\n",
       "      <td>12</td>\n",
       "    </tr>\n",
       "  </tbody>\n",
       "</table>\n",
       "</div>"
      ],
      "text/plain": [
       "        year state  counts\n",
       "0 2008-01-01    AK      23\n",
       "1 2008-01-01    AL      32\n",
       "2 2008-01-01    AR      12"
      ]
     },
     "execution_count": 11,
     "metadata": {},
     "output_type": "execute_result"
    }
   ],
   "source": [
    "case_st_yr.head(3)"
   ]
  },
  {
   "cell_type": "code",
   "execution_count": 12,
   "metadata": {},
   "outputs": [
    {
     "data": {
      "text/html": [
       "<div>\n",
       "<style scoped>\n",
       "    .dataframe tbody tr th:only-of-type {\n",
       "        vertical-align: middle;\n",
       "    }\n",
       "\n",
       "    .dataframe tbody tr th {\n",
       "        vertical-align: top;\n",
       "    }\n",
       "\n",
       "    .dataframe thead th {\n",
       "        text-align: right;\n",
       "    }\n",
       "</style>\n",
       "<table border=\"1\" class=\"dataframe\">\n",
       "  <thead>\n",
       "    <tr style=\"text-align: right;\">\n",
       "      <th></th>\n",
       "      <th>Name</th>\n",
       "      <th>Case Number</th>\n",
       "      <th>City</th>\n",
       "      <th>state</th>\n",
       "      <th>Date Filed</th>\n",
       "      <th>Region Assigned</th>\n",
       "      <th>Status</th>\n",
       "      <th>Date Closed</th>\n",
       "      <th>Reason Closed</th>\n",
       "      <th>No. of Eligible Voters</th>\n",
       "      <th>No. of Employees</th>\n",
       "      <th>Certified Representative</th>\n",
       "      <th>Unit Sought</th>\n",
       "      <th>year</th>\n",
       "    </tr>\n",
       "  </thead>\n",
       "  <tbody>\n",
       "    <tr>\n",
       "      <th>0</th>\n",
       "      <td>Horsepower Electric &amp; Maintenance Corp.</td>\n",
       "      <td>29-RD-309689</td>\n",
       "      <td>Brooklyn</td>\n",
       "      <td>NY</td>\n",
       "      <td>2022-12-30</td>\n",
       "      <td>Region 29, Brooklyn, New York</td>\n",
       "      <td>Open</td>\n",
       "      <td>NaN</td>\n",
       "      <td>NaN</td>\n",
       "      <td>NaN</td>\n",
       "      <td>140.0</td>\n",
       "      <td>NaN</td>\n",
       "      <td>Included:\\nJourneyman, Apprentices, helpers, m...</td>\n",
       "      <td>2022-01-01</td>\n",
       "    </tr>\n",
       "    <tr>\n",
       "      <th>1</th>\n",
       "      <td>Patrick Industries Inc.</td>\n",
       "      <td>10-RC-309674</td>\n",
       "      <td>Decatur</td>\n",
       "      <td>AL</td>\n",
       "      <td>2022-12-30</td>\n",
       "      <td>Region 10, Atlanta, Georgia</td>\n",
       "      <td>Closed</td>\n",
       "      <td>02/10/2023</td>\n",
       "      <td>Certification of Results</td>\n",
       "      <td>56.0</td>\n",
       "      <td>60.0</td>\n",
       "      <td>NaN</td>\n",
       "      <td>Included: All regular full-time production and...</td>\n",
       "      <td>2022-01-01</td>\n",
       "    </tr>\n",
       "    <tr>\n",
       "      <th>2</th>\n",
       "      <td>Schindler of Puerto Rico, L.L.C.</td>\n",
       "      <td>12-RC-309657</td>\n",
       "      <td>Catano</td>\n",
       "      <td>PR</td>\n",
       "      <td>2022-12-30</td>\n",
       "      <td>Region 12, Tampa, Florida</td>\n",
       "      <td>Closed</td>\n",
       "      <td>01/13/2023</td>\n",
       "      <td>Withdrawal Non-adjusted</td>\n",
       "      <td>NaN</td>\n",
       "      <td>16.0</td>\n",
       "      <td>NaN</td>\n",
       "      <td>Included: All service and repair employees and...</td>\n",
       "      <td>2022-01-01</td>\n",
       "    </tr>\n",
       "  </tbody>\n",
       "</table>\n",
       "</div>"
      ],
      "text/plain": [
       "                                      Name   Case Number      City state  \\\n",
       "0  Horsepower Electric & Maintenance Corp.  29-RD-309689  Brooklyn    NY   \n",
       "1                  Patrick Industries Inc.  10-RC-309674   Decatur    AL   \n",
       "2         Schindler of Puerto Rico, L.L.C.  12-RC-309657    Catano    PR   \n",
       "\n",
       "  Date Filed                Region Assigned  Status Date Closed  \\\n",
       "0 2022-12-30  Region 29, Brooklyn, New York    Open         NaN   \n",
       "1 2022-12-30    Region 10, Atlanta, Georgia  Closed  02/10/2023   \n",
       "2 2022-12-30      Region 12, Tampa, Florida  Closed  01/13/2023   \n",
       "\n",
       "              Reason Closed  No. of Eligible Voters  No. of Employees  \\\n",
       "0                       NaN                     NaN             140.0   \n",
       "1  Certification of Results                    56.0              60.0   \n",
       "2   Withdrawal Non-adjusted                     NaN              16.0   \n",
       "\n",
       "  Certified Representative                                        Unit Sought  \\\n",
       "0                      NaN  Included:\\nJourneyman, Apprentices, helpers, m...   \n",
       "1                      NaN  Included: All regular full-time production and...   \n",
       "2                      NaN  Included: All service and repair employees and...   \n",
       "\n",
       "        year  \n",
       "0 2022-01-01  \n",
       "1 2022-01-01  \n",
       "2 2022-01-01  "
      ]
     },
     "execution_count": 12,
     "metadata": {},
     "output_type": "execute_result"
    }
   ],
   "source": [
    "df_file.head(3)"
   ]
  },
  {
   "cell_type": "code",
   "execution_count": 13,
   "metadata": {},
   "outputs": [],
   "source": [
    "# transform the data to get the number of cases per year per city and state  \n",
    "case_st_ct_yr = df_file.groupby(['year', 'state', 'City']).size().reset_index(name='counts')"
   ]
  },
  {
   "cell_type": "code",
   "execution_count": 14,
   "metadata": {},
   "outputs": [
    {
     "data": {
      "text/html": [
       "<div>\n",
       "<style scoped>\n",
       "    .dataframe tbody tr th:only-of-type {\n",
       "        vertical-align: middle;\n",
       "    }\n",
       "\n",
       "    .dataframe tbody tr th {\n",
       "        vertical-align: top;\n",
       "    }\n",
       "\n",
       "    .dataframe thead th {\n",
       "        text-align: right;\n",
       "    }\n",
       "</style>\n",
       "<table border=\"1\" class=\"dataframe\">\n",
       "  <thead>\n",
       "    <tr style=\"text-align: right;\">\n",
       "      <th></th>\n",
       "      <th>year</th>\n",
       "      <th>state</th>\n",
       "      <th>City</th>\n",
       "      <th>counts</th>\n",
       "    </tr>\n",
       "  </thead>\n",
       "  <tbody>\n",
       "    <tr>\n",
       "      <th>0</th>\n",
       "      <td>2008-01-01</td>\n",
       "      <td>AK</td>\n",
       "      <td>Anchorage</td>\n",
       "      <td>10</td>\n",
       "    </tr>\n",
       "    <tr>\n",
       "      <th>1</th>\n",
       "      <td>2008-01-01</td>\n",
       "      <td>AK</td>\n",
       "      <td>Delta Junction</td>\n",
       "      <td>1</td>\n",
       "    </tr>\n",
       "    <tr>\n",
       "      <th>2</th>\n",
       "      <td>2008-01-01</td>\n",
       "      <td>AK</td>\n",
       "      <td>Fairbanks</td>\n",
       "      <td>3</td>\n",
       "    </tr>\n",
       "  </tbody>\n",
       "</table>\n",
       "</div>"
      ],
      "text/plain": [
       "        year state            City  counts\n",
       "0 2008-01-01    AK       Anchorage      10\n",
       "1 2008-01-01    AK  Delta Junction       1\n",
       "2 2008-01-01    AK       Fairbanks       3"
      ]
     },
     "execution_count": 14,
     "metadata": {},
     "output_type": "execute_result"
    }
   ],
   "source": [
    "case_st_ct_yr.head(3)"
   ]
  },
  {
   "cell_type": "code",
   "execution_count": 15,
   "metadata": {},
   "outputs": [],
   "source": [
    "#group cases counts by state\n",
    "case_st = df_file.groupby(['state']).size().reset_index(name='counts')\n"
   ]
  },
  {
   "cell_type": "code",
   "execution_count": 16,
   "metadata": {},
   "outputs": [
    {
     "data": {
      "text/html": [
       "<div>\n",
       "<style scoped>\n",
       "    .dataframe tbody tr th:only-of-type {\n",
       "        vertical-align: middle;\n",
       "    }\n",
       "\n",
       "    .dataframe tbody tr th {\n",
       "        vertical-align: top;\n",
       "    }\n",
       "\n",
       "    .dataframe thead th {\n",
       "        text-align: right;\n",
       "    }\n",
       "</style>\n",
       "<table border=\"1\" class=\"dataframe\">\n",
       "  <thead>\n",
       "    <tr style=\"text-align: right;\">\n",
       "      <th></th>\n",
       "      <th>state</th>\n",
       "      <th>counts</th>\n",
       "    </tr>\n",
       "  </thead>\n",
       "  <tbody>\n",
       "    <tr>\n",
       "      <th>0</th>\n",
       "      <td>AE</td>\n",
       "      <td>1</td>\n",
       "    </tr>\n",
       "    <tr>\n",
       "      <th>1</th>\n",
       "      <td>AK</td>\n",
       "      <td>203</td>\n",
       "    </tr>\n",
       "    <tr>\n",
       "      <th>2</th>\n",
       "      <td>AL</td>\n",
       "      <td>264</td>\n",
       "    </tr>\n",
       "    <tr>\n",
       "      <th>3</th>\n",
       "      <td>AR</td>\n",
       "      <td>120</td>\n",
       "    </tr>\n",
       "    <tr>\n",
       "      <th>4</th>\n",
       "      <td>AZ</td>\n",
       "      <td>367</td>\n",
       "    </tr>\n",
       "    <tr>\n",
       "      <th>5</th>\n",
       "      <td>CA</td>\n",
       "      <td>5027</td>\n",
       "    </tr>\n",
       "    <tr>\n",
       "      <th>6</th>\n",
       "      <td>CO</td>\n",
       "      <td>404</td>\n",
       "    </tr>\n",
       "    <tr>\n",
       "      <th>7</th>\n",
       "      <td>CT</td>\n",
       "      <td>769</td>\n",
       "    </tr>\n",
       "    <tr>\n",
       "      <th>8</th>\n",
       "      <td>DC</td>\n",
       "      <td>699</td>\n",
       "    </tr>\n",
       "    <tr>\n",
       "      <th>9</th>\n",
       "      <td>DE</td>\n",
       "      <td>129</td>\n",
       "    </tr>\n",
       "  </tbody>\n",
       "</table>\n",
       "</div>"
      ],
      "text/plain": [
       "  state  counts\n",
       "0    AE       1\n",
       "1    AK     203\n",
       "2    AL     264\n",
       "3    AR     120\n",
       "4    AZ     367\n",
       "5    CA    5027\n",
       "6    CO     404\n",
       "7    CT     769\n",
       "8    DC     699\n",
       "9    DE     129"
      ]
     },
     "execution_count": 16,
     "metadata": {},
     "output_type": "execute_result"
    }
   ],
   "source": [
    "case_st.head(10)"
   ]
  },
  {
   "cell_type": "code",
   "execution_count": 20,
   "metadata": {},
   "outputs": [
    {
     "data": {
      "text/html": [
       "<div>\n",
       "<style scoped>\n",
       "    .dataframe tbody tr th:only-of-type {\n",
       "        vertical-align: middle;\n",
       "    }\n",
       "\n",
       "    .dataframe tbody tr th {\n",
       "        vertical-align: top;\n",
       "    }\n",
       "\n",
       "    .dataframe thead th {\n",
       "        text-align: right;\n",
       "    }\n",
       "</style>\n",
       "<table border=\"1\" class=\"dataframe\">\n",
       "  <thead>\n",
       "    <tr style=\"text-align: right;\">\n",
       "      <th></th>\n",
       "      <th>state</th>\n",
       "      <th>counts</th>\n",
       "      <th>state_name</th>\n",
       "    </tr>\n",
       "  </thead>\n",
       "  <tbody>\n",
       "    <tr>\n",
       "      <th>0</th>\n",
       "      <td>AE</td>\n",
       "      <td>1</td>\n",
       "      <td>NaN</td>\n",
       "    </tr>\n",
       "    <tr>\n",
       "      <th>1</th>\n",
       "      <td>AK</td>\n",
       "      <td>203</td>\n",
       "      <td>Alaska</td>\n",
       "    </tr>\n",
       "    <tr>\n",
       "      <th>2</th>\n",
       "      <td>AL</td>\n",
       "      <td>264</td>\n",
       "      <td>Alabama</td>\n",
       "    </tr>\n",
       "    <tr>\n",
       "      <th>3</th>\n",
       "      <td>AR</td>\n",
       "      <td>120</td>\n",
       "      <td>Arkansas</td>\n",
       "    </tr>\n",
       "    <tr>\n",
       "      <th>4</th>\n",
       "      <td>AZ</td>\n",
       "      <td>367</td>\n",
       "      <td>Arizona</td>\n",
       "    </tr>\n",
       "    <tr>\n",
       "      <th>5</th>\n",
       "      <td>CA</td>\n",
       "      <td>5027</td>\n",
       "      <td>California</td>\n",
       "    </tr>\n",
       "    <tr>\n",
       "      <th>6</th>\n",
       "      <td>CO</td>\n",
       "      <td>404</td>\n",
       "      <td>Colorado</td>\n",
       "    </tr>\n",
       "    <tr>\n",
       "      <th>7</th>\n",
       "      <td>CT</td>\n",
       "      <td>769</td>\n",
       "      <td>Connecticut</td>\n",
       "    </tr>\n",
       "    <tr>\n",
       "      <th>8</th>\n",
       "      <td>DC</td>\n",
       "      <td>699</td>\n",
       "      <td>NaN</td>\n",
       "    </tr>\n",
       "    <tr>\n",
       "      <th>9</th>\n",
       "      <td>DE</td>\n",
       "      <td>129</td>\n",
       "      <td>Delaware</td>\n",
       "    </tr>\n",
       "  </tbody>\n",
       "</table>\n",
       "</div>"
      ],
      "text/plain": [
       "  state  counts   state_name\n",
       "0    AE       1          NaN\n",
       "1    AK     203       Alaska\n",
       "2    AL     264      Alabama\n",
       "3    AR     120     Arkansas\n",
       "4    AZ     367      Arizona\n",
       "5    CA    5027   California\n",
       "6    CO     404     Colorado\n",
       "7    CT     769  Connecticut\n",
       "8    DC     699          NaN\n",
       "9    DE     129     Delaware"
      ]
     },
     "execution_count": 20,
     "metadata": {},
     "output_type": "execute_result"
    }
   ],
   "source": [
    "# convert state abbreviation to full name\n",
    "case_st['state_name'] = case_st['state'].map(\n",
    "{\"AL\":\"Alabama\",\"AK\":\"Alaska\",\"AZ\":\"Arizona\",\"AR\":\"Arkansas\",\"CA\":\"California\",\"CO\":\"Colorado\",\"CT\":\"Connecticut\",\"DE\":\"Delaware\",\"FL\":\"Florida\",\"GA\":\"Georgia\",\"HI\":\"Hawaii\",\"ID\":\"Idaho\",\"IL\":\"Illinois\",\"IN\":\"Indiana\",\"IA\":\"Iowa\",\"KS\":\"Kansas\",\"KY\":\"Kentucky\",\"LA\":\"Louisiana\",\"ME\":\"Maine\",\"MD\":\"Maryland\",\"MA\":\"Massachusetts\",\"MI\":\"Michigan\",\"MN\":\"Minnesota\",\"MS\":\"Mississippi\",\"MO\":\"Missouri\",\"MT\":\"Montana\",\"NE\":\"Nebraska\",\"NV\":\"Nevada\",\"NH\":\"New Hampshire\",\"NJ\":\"New Jersey\",\"NM\":\"New Mexico\",\"NY\":\"New York\",\"NC\":\"North Carolina\",\"ND\":\"North Dakota\",\n",
    " \"OH\":\"Ohio\",\"OK\":\"Oklahoma\",\"OR\":\"Oregon\",\"PA\":\"Pennsylvania\",\"RI\":\"Rhode Island\",\"SC\":\"South Carolina\",\"SD\":\"South Dakota\",\"TN\":\"Tennessee\",\"TX\":\"Texas\",\"UT\":\"Utah\",\"VT\":\"Vermont\",\"VA\":\"Virginia\",\"WA\":\"Washington\",\"WV\":\"West Virginia\",\"WI\":\"Wisconsin\",\"WY\":\"Wyoming\"}\n",
    ")\n",
    "case_st.head(10)"
   ]
  },
  {
   "cell_type": "code",
   "execution_count": null,
   "metadata": {},
   "outputs": [],
   "source": []
  },
  {
   "cell_type": "code",
   "execution_count": 21,
   "metadata": {},
   "outputs": [],
   "source": [
    "#save case_st to csv\n",
    "case_st.to_csv('data/cases_filed_st.csv', index=False)"
   ]
  },
  {
   "cell_type": "code",
   "execution_count": 17,
   "metadata": {},
   "outputs": [],
   "source": [
    "#group cases counts by state\n",
    "case_st2 = case_st_ct_yr.groupby(['state']).size().reset_index(name='counts')"
   ]
  },
  {
   "cell_type": "code",
   "execution_count": 18,
   "metadata": {},
   "outputs": [
    {
     "data": {
      "text/html": [
       "<div>\n",
       "<style scoped>\n",
       "    .dataframe tbody tr th:only-of-type {\n",
       "        vertical-align: middle;\n",
       "    }\n",
       "\n",
       "    .dataframe tbody tr th {\n",
       "        vertical-align: top;\n",
       "    }\n",
       "\n",
       "    .dataframe thead th {\n",
       "        text-align: right;\n",
       "    }\n",
       "</style>\n",
       "<table border=\"1\" class=\"dataframe\">\n",
       "  <thead>\n",
       "    <tr style=\"text-align: right;\">\n",
       "      <th></th>\n",
       "      <th>state</th>\n",
       "      <th>counts</th>\n",
       "    </tr>\n",
       "  </thead>\n",
       "  <tbody>\n",
       "    <tr>\n",
       "      <th>0</th>\n",
       "      <td>AE</td>\n",
       "      <td>1</td>\n",
       "    </tr>\n",
       "    <tr>\n",
       "      <th>1</th>\n",
       "      <td>AK</td>\n",
       "      <td>103</td>\n",
       "    </tr>\n",
       "    <tr>\n",
       "      <th>2</th>\n",
       "      <td>AL</td>\n",
       "      <td>188</td>\n",
       "    </tr>\n",
       "    <tr>\n",
       "      <th>3</th>\n",
       "      <td>AR</td>\n",
       "      <td>85</td>\n",
       "    </tr>\n",
       "    <tr>\n",
       "      <th>4</th>\n",
       "      <td>AZ</td>\n",
       "      <td>141</td>\n",
       "    </tr>\n",
       "    <tr>\n",
       "      <th>5</th>\n",
       "      <td>CA</td>\n",
       "      <td>2242</td>\n",
       "    </tr>\n",
       "    <tr>\n",
       "      <th>6</th>\n",
       "      <td>CO</td>\n",
       "      <td>188</td>\n",
       "    </tr>\n",
       "    <tr>\n",
       "      <th>7</th>\n",
       "      <td>CT</td>\n",
       "      <td>487</td>\n",
       "    </tr>\n",
       "    <tr>\n",
       "      <th>8</th>\n",
       "      <td>DC</td>\n",
       "      <td>19</td>\n",
       "    </tr>\n",
       "    <tr>\n",
       "      <th>9</th>\n",
       "      <td>DE</td>\n",
       "      <td>87</td>\n",
       "    </tr>\n",
       "  </tbody>\n",
       "</table>\n",
       "</div>"
      ],
      "text/plain": [
       "  state  counts\n",
       "0    AE       1\n",
       "1    AK     103\n",
       "2    AL     188\n",
       "3    AR      85\n",
       "4    AZ     141\n",
       "5    CA    2242\n",
       "6    CO     188\n",
       "7    CT     487\n",
       "8    DC      19\n",
       "9    DE      87"
      ]
     },
     "execution_count": 18,
     "metadata": {},
     "output_type": "execute_result"
    }
   ],
   "source": [
    "case_st2.head(10)"
   ]
  },
  {
   "cell_type": "code",
   "execution_count": 16,
   "metadata": {},
   "outputs": [
    {
     "data": {
      "image/png": "[encoded data removed]",
      "text/plain": [
       "<Figure size 2000x1000 with 1 Axes>"
      ]
     },
     "metadata": {},
     "output_type": "display_data"
    }
   ],
   "source": [
    "# plot the mean number of cases per year per state bar chart\n",
    "plt.figure(figsize=(20,10))\n",
    "sns.barplot(x='year', y='counts', hue='state', data=case_st_yr, palette='Set2')\n",
    "plt.title('Mean Number of Cases per Year per State')\n",
    "plt.xlabel('Year')\n",
    "plt.ylabel('Mean Number of Cases')\n",
    "plt.show()\n"
   ]
  },
  {
   "cell_type": "code",
   "execution_count": 17,
   "metadata": {},
   "outputs": [
    {
     "data": {
      "text/html": [
       "<div>\n",
       "<style scoped>\n",
       "    .dataframe tbody tr th:only-of-type {\n",
       "        vertical-align: middle;\n",
       "    }\n",
       "\n",
       "    .dataframe tbody tr th {\n",
       "        vertical-align: top;\n",
       "    }\n",
       "\n",
       "    .dataframe thead th {\n",
       "        text-align: right;\n",
       "    }\n",
       "</style>\n",
       "<table border=\"1\" class=\"dataframe\">\n",
       "  <thead>\n",
       "    <tr style=\"text-align: right;\">\n",
       "      <th></th>\n",
       "      <th>year</th>\n",
       "      <th>counts</th>\n",
       "    </tr>\n",
       "  </thead>\n",
       "  <tbody>\n",
       "    <tr>\n",
       "      <th>0</th>\n",
       "      <td>2008-01-01</td>\n",
       "      <td>3339</td>\n",
       "    </tr>\n",
       "    <tr>\n",
       "      <th>1</th>\n",
       "      <td>2009-01-01</td>\n",
       "      <td>3017</td>\n",
       "    </tr>\n",
       "    <tr>\n",
       "      <th>2</th>\n",
       "      <td>2010-01-01</td>\n",
       "      <td>3126</td>\n",
       "    </tr>\n",
       "  </tbody>\n",
       "</table>\n",
       "</div>"
      ],
      "text/plain": [
       "        year  counts\n",
       "0 2008-01-01    3339\n",
       "1 2009-01-01    3017\n",
       "2 2010-01-01    3126"
      ]
     },
     "execution_count": 17,
     "metadata": {},
     "output_type": "execute_result"
    }
   ],
   "source": [
    "# group cases by year\n",
    "case_yr = df_file.groupby(['year']).size().reset_index(name='counts')\n",
    "case_yr.head(3)"
   ]
  },
  {
   "cell_type": "code",
   "execution_count": 18,
   "metadata": {},
   "outputs": [
    {
     "data": {
      "image/png": "[encoded data removed]",
      "text/plain": [
       "<Figure size 640x480 with 1 Axes>"
      ]
     },
     "metadata": {},
     "output_type": "display_data"
    }
   ],
   "source": [
    "# plot cases filed by year\n",
    "ax = sns.lineplot(x=case_yr['year'], y=case_yr['counts'], data=case_yr, color='green')"
   ]
  },
  {
   "cell_type": "code",
   "execution_count": 19,
   "metadata": {},
   "outputs": [
    {
     "name": "stdout",
     "output_type": "stream",
     "text": [
      "<class 'pandas.core.frame.DataFrame'>\n",
      "RangeIndex: 15 entries, 0 to 14\n",
      "Data columns (total 2 columns):\n",
      " #   Column  Non-Null Count  Dtype         \n",
      "---  ------  --------------  -----         \n",
      " 0   year    15 non-null     datetime64[ns]\n",
      " 1   counts  15 non-null     int64         \n",
      "dtypes: datetime64[ns](1), int64(1)\n",
      "memory usage: 368.0 bytes\n"
     ]
    }
   ],
   "source": [
    "case_yr.info()"
   ]
  },
  {
   "cell_type": "code",
   "execution_count": 20,
   "metadata": {},
   "outputs": [
    {
     "name": "stderr",
     "output_type": "stream",
     "text": [
      "/var/folders/wc/8hdh58ld0ydc_xf_g99n5yr80000gn/T/ipykernel_3439/391895610.py:2: UserWarning: Ignoring `palette` because no `hue` variable has been assigned.\n",
      "  ax = sns.displot(case_yr, x='year', y='counts', kind='kde', fill=True, palette='Set2')\n"
     ]
    },
    {
     "data": {
      "image/png": "[encoded data removed]",
      "text/plain": [
       "<Figure size 500x500 with 1 Axes>"
      ]
     },
     "metadata": {},
     "output_type": "display_data"
    }
   ],
   "source": [
    "# distribution of cases filed by year\n",
    "ax = sns.displot(case_yr, x='year', y='counts', kind='kde', fill=True, palette='Set2')"
   ]
  },
  {
   "cell_type": "code",
   "execution_count": 21,
   "metadata": {},
   "outputs": [
    {
     "data": {
      "image/png": "[encoded data removed]",
      "text/plain": [
       "<Figure size 500x500 with 1 Axes>"
      ]
     },
     "metadata": {},
     "output_type": "display_data"
    }
   ],
   "source": [
    "# distribution of cases per state per year\n",
    "ax = sns.displot(case_st_yr, x=\"counts\", binwidth=50)"
   ]
  },
  {
   "cell_type": "code",
   "execution_count": 22,
   "metadata": {},
   "outputs": [
    {
     "data": {
      "text/plain": [
       "47.65119196988708"
      ]
     },
     "execution_count": 22,
     "metadata": {},
     "output_type": "execute_result"
    }
   ],
   "source": [
    "# mean of cases per year for each state\n",
    "case_st_yr['counts'].mean()"
   ]
  },
  {
   "cell_type": "code",
   "execution_count": 23,
   "metadata": {},
   "outputs": [
    {
     "data": {
      "text/plain": [
       "<AxesSubplot: xlabel='counts', ylabel='state'>"
      ]
     },
     "execution_count": 23,
     "metadata": {},
     "output_type": "execute_result"
    },
    {
     "data": {
      "image/png": "[encoded data removed]",
      "text/plain": [
       "<Figure size 800x800 with 1 Axes>"
      ]
     },
     "metadata": {},
     "output_type": "display_data"
    }
   ],
   "source": [
    "# count of cases filed per state 2008-22\n",
    "sns.set(rc={\"figure.figsize\":(8, 8)})\n",
    "sns.barplot(x=\"counts\", y=\"state\", data=case_st_yr, palette=\"viridis\")"
   ]
  },
  {
   "cell_type": "code",
   "execution_count": 24,
   "metadata": {},
   "outputs": [
    {
     "data": {
      "text/html": [
       "<div>\n",
       "<style scoped>\n",
       "    .dataframe tbody tr th:only-of-type {\n",
       "        vertical-align: middle;\n",
       "    }\n",
       "\n",
       "    .dataframe tbody tr th {\n",
       "        vertical-align: top;\n",
       "    }\n",
       "\n",
       "    .dataframe thead th {\n",
       "        text-align: right;\n",
       "    }\n",
       "</style>\n",
       "<table border=\"1\" class=\"dataframe\">\n",
       "  <thead>\n",
       "    <tr style=\"text-align: right;\">\n",
       "      <th></th>\n",
       "      <th>year</th>\n",
       "      <th>state</th>\n",
       "      <th>counts</th>\n",
       "    </tr>\n",
       "  </thead>\n",
       "  <tbody>\n",
       "    <tr>\n",
       "      <th>789</th>\n",
       "      <td>2022-01-01</td>\n",
       "      <td>TX</td>\n",
       "      <td>81</td>\n",
       "    </tr>\n",
       "    <tr>\n",
       "      <th>790</th>\n",
       "      <td>2022-01-01</td>\n",
       "      <td>UT</td>\n",
       "      <td>11</td>\n",
       "    </tr>\n",
       "    <tr>\n",
       "      <th>791</th>\n",
       "      <td>2022-01-01</td>\n",
       "      <td>VA</td>\n",
       "      <td>46</td>\n",
       "    </tr>\n",
       "    <tr>\n",
       "      <th>792</th>\n",
       "      <td>2022-01-01</td>\n",
       "      <td>VT</td>\n",
       "      <td>14</td>\n",
       "    </tr>\n",
       "    <tr>\n",
       "      <th>793</th>\n",
       "      <td>2022-01-01</td>\n",
       "      <td>WA</td>\n",
       "      <td>126</td>\n",
       "    </tr>\n",
       "    <tr>\n",
       "      <th>794</th>\n",
       "      <td>2022-01-01</td>\n",
       "      <td>WI</td>\n",
       "      <td>29</td>\n",
       "    </tr>\n",
       "    <tr>\n",
       "      <th>795</th>\n",
       "      <td>2022-01-01</td>\n",
       "      <td>WV</td>\n",
       "      <td>10</td>\n",
       "    </tr>\n",
       "    <tr>\n",
       "      <th>796</th>\n",
       "      <td>2022-01-01</td>\n",
       "      <td>WY</td>\n",
       "      <td>2</td>\n",
       "    </tr>\n",
       "  </tbody>\n",
       "</table>\n",
       "</div>"
      ],
      "text/plain": [
       "          year state  counts\n",
       "789 2022-01-01    TX      81\n",
       "790 2022-01-01    UT      11\n",
       "791 2022-01-01    VA      46\n",
       "792 2022-01-01    VT      14\n",
       "793 2022-01-01    WA     126\n",
       "794 2022-01-01    WI      29\n",
       "795 2022-01-01    WV      10\n",
       "796 2022-01-01    WY       2"
      ]
     },
     "execution_count": 24,
     "metadata": {},
     "output_type": "execute_result"
    }
   ],
   "source": [
    "case_st_yr.tail(8)\n",
    "\n",
    "\n"
   ]
  },
  {
   "cell_type": "code",
   "execution_count": 25,
   "metadata": {},
   "outputs": [
    {
     "data": {
      "text/html": [
       "<div>\n",
       "<style scoped>\n",
       "    .dataframe tbody tr th:only-of-type {\n",
       "        vertical-align: middle;\n",
       "    }\n",
       "\n",
       "    .dataframe tbody tr th {\n",
       "        vertical-align: top;\n",
       "    }\n",
       "\n",
       "    .dataframe thead th {\n",
       "        text-align: right;\n",
       "    }\n",
       "</style>\n",
       "<table border=\"1\" class=\"dataframe\">\n",
       "  <thead>\n",
       "    <tr style=\"text-align: right;\">\n",
       "      <th></th>\n",
       "      <th>counts</th>\n",
       "      <th>state</th>\n",
       "    </tr>\n",
       "    <tr>\n",
       "      <th>state</th>\n",
       "      <th></th>\n",
       "      <th></th>\n",
       "    </tr>\n",
       "  </thead>\n",
       "  <tbody>\n",
       "    <tr>\n",
       "      <th>AE</th>\n",
       "      <td>1.000000</td>\n",
       "      <td>AE</td>\n",
       "    </tr>\n",
       "    <tr>\n",
       "      <th>AK</th>\n",
       "      <td>13.533333</td>\n",
       "      <td>AK</td>\n",
       "    </tr>\n",
       "    <tr>\n",
       "      <th>AL</th>\n",
       "      <td>17.600000</td>\n",
       "      <td>AL</td>\n",
       "    </tr>\n",
       "  </tbody>\n",
       "</table>\n",
       "</div>"
      ],
      "text/plain": [
       "          counts state\n",
       "state                 \n",
       "AE      1.000000    AE\n",
       "AK     13.533333    AK\n",
       "AL     17.600000    AL"
      ]
     },
     "execution_count": 25,
     "metadata": {},
     "output_type": "execute_result"
    }
   ],
   "source": [
    "# group by state a\n",
    "case_st_mean = case_st_yr.groupby(['state'])['counts'].mean()\n",
    "st_mean_df= pd.DataFrame(case_st_mean)\n",
    "st_mean_df['state'] = st_mean_df.index\n",
    "st_mean_df.head(3)"
   ]
  },
  {
   "cell_type": "code",
   "execution_count": 26,
   "metadata": {},
   "outputs": [],
   "source": [
    "# rename counts column to mean_cases\n",
    "st_mean_df.rename(columns={'counts': 'mean_cases'}, inplace=True)"
   ]
  },
  {
   "cell_type": "code",
   "execution_count": 27,
   "metadata": {},
   "outputs": [
    {
     "data": {
      "text/html": [
       "<div>\n",
       "<style scoped>\n",
       "    .dataframe tbody tr th:only-of-type {\n",
       "        vertical-align: middle;\n",
       "    }\n",
       "\n",
       "    .dataframe tbody tr th {\n",
       "        vertical-align: top;\n",
       "    }\n",
       "\n",
       "    .dataframe thead th {\n",
       "        text-align: right;\n",
       "    }\n",
       "</style>\n",
       "<table border=\"1\" class=\"dataframe\">\n",
       "  <thead>\n",
       "    <tr style=\"text-align: right;\">\n",
       "      <th></th>\n",
       "      <th>mean_cases</th>\n",
       "      <th>state</th>\n",
       "    </tr>\n",
       "    <tr>\n",
       "      <th>state</th>\n",
       "      <th></th>\n",
       "      <th></th>\n",
       "    </tr>\n",
       "  </thead>\n",
       "  <tbody>\n",
       "    <tr>\n",
       "      <th>AE</th>\n",
       "      <td>1.000000</td>\n",
       "      <td>AE</td>\n",
       "    </tr>\n",
       "    <tr>\n",
       "      <th>AK</th>\n",
       "      <td>13.533333</td>\n",
       "      <td>AK</td>\n",
       "    </tr>\n",
       "    <tr>\n",
       "      <th>AL</th>\n",
       "      <td>17.600000</td>\n",
       "      <td>AL</td>\n",
       "    </tr>\n",
       "    <tr>\n",
       "      <th>AR</th>\n",
       "      <td>8.000000</td>\n",
       "      <td>AR</td>\n",
       "    </tr>\n",
       "    <tr>\n",
       "      <th>AZ</th>\n",
       "      <td>24.466667</td>\n",
       "      <td>AZ</td>\n",
       "    </tr>\n",
       "  </tbody>\n",
       "</table>\n",
       "</div>"
      ],
      "text/plain": [
       "       mean_cases state\n",
       "state                  \n",
       "AE       1.000000    AE\n",
       "AK      13.533333    AK\n",
       "AL      17.600000    AL\n",
       "AR       8.000000    AR\n",
       "AZ      24.466667    AZ"
      ]
     },
     "execution_count": 27,
     "metadata": {},
     "output_type": "execute_result"
    }
   ],
   "source": [
    "st_mean_df.head(5)"
   ]
  },
  {
   "cell_type": "code",
   "execution_count": 28,
   "metadata": {},
   "outputs": [
    {
     "ename": "KeyError",
     "evalue": "'mean cases'",
     "output_type": "error",
     "traceback": [
      "\u001b[0;31m---------------------------------------------------------------------------\u001b[0m",
      "\u001b[0;31mKeyError\u001b[0m                                  Traceback (most recent call last)",
      "Cell \u001b[0;32mIn[28], line 4\u001b[0m\n\u001b[1;32m      1\u001b[0m \u001b[39m# mean of cases filed per state 2008-22\u001b[39;00m\n\u001b[1;32m      2\u001b[0m sns\u001b[39m.\u001b[39mset(rc\u001b[39m=\u001b[39m{\u001b[39m\"\u001b[39m\u001b[39mfigure.figsize\u001b[39m\u001b[39m\"\u001b[39m:(\u001b[39m8\u001b[39m, \u001b[39m10\u001b[39m)})\n\u001b[1;32m      3\u001b[0m sns\u001b[39m.\u001b[39mbarplot(x\u001b[39m=\u001b[39m\u001b[39m\"\u001b[39m\u001b[39mmean cases\u001b[39m\u001b[39m\"\u001b[39m, y\u001b[39m=\u001b[39m\u001b[39m\"\u001b[39m\u001b[39mstate\u001b[39m\u001b[39m\"\u001b[39m, data\u001b[39m=\u001b[39mst_mean_df, palette\u001b[39m=\u001b[39m\u001b[39m\"\u001b[39m\u001b[39mviridis\u001b[39m\u001b[39m\"\u001b[39m,\n\u001b[0;32m----> 4\u001b[0m     order\u001b[39m=\u001b[39mst_mean_df\u001b[39m.\u001b[39;49msort_values(\u001b[39m'\u001b[39;49m\u001b[39mmean cases\u001b[39;49m\u001b[39m'\u001b[39;49m,ascending \u001b[39m=\u001b[39;49m \u001b[39mFalse\u001b[39;49;00m)\u001b[39m.\u001b[39mstate)\n",
      "File \u001b[0;32m~/opt/anaconda3/envs/Adv_projects_visualization/lib/python3.9/site-packages/pandas/util/_decorators.py:331\u001b[0m, in \u001b[0;36mdeprecate_nonkeyword_arguments.<locals>.decorate.<locals>.wrapper\u001b[0;34m(*args, **kwargs)\u001b[0m\n\u001b[1;32m    325\u001b[0m \u001b[39mif\u001b[39;00m \u001b[39mlen\u001b[39m(args) \u001b[39m>\u001b[39m num_allow_args:\n\u001b[1;32m    326\u001b[0m     warnings\u001b[39m.\u001b[39mwarn(\n\u001b[1;32m    327\u001b[0m         msg\u001b[39m.\u001b[39mformat(arguments\u001b[39m=\u001b[39m_format_argument_list(allow_args)),\n\u001b[1;32m    328\u001b[0m         \u001b[39mFutureWarning\u001b[39;00m,\n\u001b[1;32m    329\u001b[0m         stacklevel\u001b[39m=\u001b[39mfind_stack_level(),\n\u001b[1;32m    330\u001b[0m     )\n\u001b[0;32m--> 331\u001b[0m \u001b[39mreturn\u001b[39;00m func(\u001b[39m*\u001b[39;49margs, \u001b[39m*\u001b[39;49m\u001b[39m*\u001b[39;49mkwargs)\n",
      "File \u001b[0;32m~/opt/anaconda3/envs/Adv_projects_visualization/lib/python3.9/site-packages/pandas/core/frame.py:6909\u001b[0m, in \u001b[0;36mDataFrame.sort_values\u001b[0;34m(self, by, axis, ascending, inplace, kind, na_position, ignore_index, key)\u001b[0m\n\u001b[1;32m   6905\u001b[0m \u001b[39melif\u001b[39;00m \u001b[39mlen\u001b[39m(by):\n\u001b[1;32m   6906\u001b[0m     \u001b[39m# len(by) == 1\u001b[39;00m\n\u001b[1;32m   6908\u001b[0m     by \u001b[39m=\u001b[39m by[\u001b[39m0\u001b[39m]\n\u001b[0;32m-> 6909\u001b[0m     k \u001b[39m=\u001b[39m \u001b[39mself\u001b[39;49m\u001b[39m.\u001b[39;49m_get_label_or_level_values(by, axis\u001b[39m=\u001b[39;49maxis)\n\u001b[1;32m   6911\u001b[0m     \u001b[39m# need to rewrap column in Series to apply key function\u001b[39;00m\n\u001b[1;32m   6912\u001b[0m     \u001b[39mif\u001b[39;00m key \u001b[39mis\u001b[39;00m \u001b[39mnot\u001b[39;00m \u001b[39mNone\u001b[39;00m:\n\u001b[1;32m   6913\u001b[0m         \u001b[39m# error: Incompatible types in assignment (expression has type\u001b[39;00m\n\u001b[1;32m   6914\u001b[0m         \u001b[39m# \"Series\", variable has type \"ndarray\")\u001b[39;00m\n",
      "File \u001b[0;32m~/opt/anaconda3/envs/Adv_projects_visualization/lib/python3.9/site-packages/pandas/core/generic.py:1850\u001b[0m, in \u001b[0;36mNDFrame._get_label_or_level_values\u001b[0;34m(self, key, axis)\u001b[0m\n\u001b[1;32m   1844\u001b[0m     values \u001b[39m=\u001b[39m (\n\u001b[1;32m   1845\u001b[0m         \u001b[39mself\u001b[39m\u001b[39m.\u001b[39maxes[axis]\n\u001b[1;32m   1846\u001b[0m         \u001b[39m.\u001b[39mget_level_values(key)  \u001b[39m# type: ignore[assignment]\u001b[39;00m\n\u001b[1;32m   1847\u001b[0m         \u001b[39m.\u001b[39m_values\n\u001b[1;32m   1848\u001b[0m     )\n\u001b[1;32m   1849\u001b[0m \u001b[39melse\u001b[39;00m:\n\u001b[0;32m-> 1850\u001b[0m     \u001b[39mraise\u001b[39;00m \u001b[39mKeyError\u001b[39;00m(key)\n\u001b[1;32m   1852\u001b[0m \u001b[39m# Check for duplicates\u001b[39;00m\n\u001b[1;32m   1853\u001b[0m \u001b[39mif\u001b[39;00m values\u001b[39m.\u001b[39mndim \u001b[39m>\u001b[39m \u001b[39m1\u001b[39m:\n",
      "\u001b[0;31mKeyError\u001b[0m: 'mean cases'"
     ]
    }
   ],
   "source": [
    "# mean of cases filed per state 2008-22\n",
    "sns.set(rc={\"figure.figsize\":(8, 10)})\n",
    "sns.barplot(x=\"mean cases\", y=\"state\", data=st_mean_df, palette=\"viridis\",\n",
    "    order=st_mean_df.sort_values('mean cases',ascending = False).state)"
   ]
  },
  {
   "cell_type": "code",
   "execution_count": null,
   "metadata": {},
   "outputs": [],
   "source": [
    "# plot cases filed by year\n",
    "ax = sns.barplot(x=case_yr['year'], y=case_yr['counts'], data=case_yr, color='green')"
   ]
  },
  {
   "cell_type": "code",
   "execution_count": null,
   "metadata": {},
   "outputs": [],
   "source": [
    "# convert year column to 4 digit year format\n",
    "\n",
    "case_yr['year'] = case_yr['year'].dt.strftime('%Y')"
   ]
  },
  {
   "cell_type": "code",
   "execution_count": null,
   "metadata": {},
   "outputs": [],
   "source": [
    "case_yr.head(3)"
   ]
  },
  {
   "cell_type": "code",
   "execution_count": null,
   "metadata": {},
   "outputs": [],
   "source": [
    "# plot cases filed by year\n",
    "ax = sns.barplot(x=case_yr['year'], y=case_yr['counts'], data=case_yr, palette='viridis')"
   ]
  },
  {
   "cell_type": "code",
   "execution_count": 29,
   "metadata": {},
   "outputs": [],
   "source": [
    "# save case_yr to csv\n",
    "case_yr.to_csv('data/filings_yr.csv', index=False)"
   ]
  }
 ],
 "metadata": {
  "kernelspec": {
   "display_name": "Python 3",
   "language": "python",
   "name": "python3"
  },
  "language_info": {
   "codemirror_mode": {
    "name": "ipython",
    "version": 3
   },
   "file_extension": ".py",
   "mimetype": "text/x-python",
   "name": "python",
   "nbconvert_exporter": "python",
   "pygments_lexer": "ipython3",
   "version": "3.9.16"
  },
  "orig_nbformat": 4
 },
 "nbformat": 4,
 "nbformat_minor": 2
}
